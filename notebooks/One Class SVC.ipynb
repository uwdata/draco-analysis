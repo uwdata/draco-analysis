{
 "cells": [
  {
   "cell_type": "markdown",
   "metadata": {},
   "source": [
    "# Evaluate normal SVC for single class prediction\n",
    "\n",
    "Use this to see whether we get any different prediction if we pick a different example to mirror on the origin."
   ]
  },
  {
   "cell_type": "code",
   "execution_count": 6,
   "metadata": {},
   "outputs": [],
   "source": [
    "from draco.learn import data_util\n",
    "from sklearn import svm\n",
    "from sklearn.model_selection import train_test_split\n",
    "import numpy as np"
   ]
  },
  {
   "cell_type": "code",
   "execution_count": 2,
   "metadata": {},
   "outputs": [],
   "source": [
    "data, _ = data_util.load_data(test_size=0.3)"
   ]
  },
  {
   "cell_type": "code",
   "execution_count": 3,
   "metadata": {},
   "outputs": [],
   "source": [
    "X = data.negative - data.positive\n",
    "X = X.as_matrix()"
   ]
  },
  {
   "cell_type": "code",
   "execution_count": 4,
   "metadata": {},
   "outputs": [],
   "source": [
    "X_train, X_dev = train_test_split(X, test_size=0.3)\n",
    "clf = svm.LinearSVC(C=1, fit_intercept=False)\n",
    "\n",
    "y_train = np.ones(len(X_train))\n",
    "\n",
    "# swap first example\n",
    "X_train[0] = -X_train[0]\n",
    "y_train[0] = -y_train[0]\n",
    "\n",
    "clf.fit(X_train, y_train)\n",
    "\n",
    "first = clf.coef_\n",
    "\n",
    "# try again\n",
    "clf.fit(X_train, y_train)\n",
    "\n",
    "second = clf.coef_\n",
    "\n",
    "\n",
    "# swap second example\n",
    "X_train[0] = -X_train[0]\n",
    "y_train[0] = -y_train[0]\n",
    "\n",
    "X_train[1] = -X_train[1]\n",
    "y_train[1] = -y_train[1]\n",
    "\n",
    "clf.fit(X_train, y_train)\n",
    "\n",
    "third = clf.coef_"
   ]
  },
  {
   "cell_type": "code",
   "execution_count": 5,
   "metadata": {},
   "outputs": [
    {
     "name": "stdout",
     "output_type": "stream",
     "text": [
      "8.002767052199544e-07\n",
      "-2.7690079596603967e-07\n",
      "5.233759092539148e-07\n"
     ]
    }
   ],
   "source": [
    "print(np.sum(first - second))\n",
    "\n",
    "print(np.sum(second - third))\n",
    "print(np.sum(first - third))\n",
    "\n",
    "# are two and three very different from one?"
   ]
  },
  {
   "cell_type": "code",
   "execution_count": null,
   "metadata": {},
   "outputs": [],
   "source": []
  }
 ],
 "metadata": {
  "kernelspec": {
   "display_name": "Python [conda env:asp]",
   "language": "python",
   "name": "conda-env-asp-py"
  },
  "language_info": {
   "codemirror_mode": {
    "name": "ipython",
    "version": 3
   },
   "file_extension": ".py",
   "mimetype": "text/x-python",
   "name": "python",
   "nbconvert_exporter": "python",
   "pygments_lexer": "ipython3",
   "version": "3.6.4"
  }
 },
 "nbformat": 4,
 "nbformat_minor": 2
}
