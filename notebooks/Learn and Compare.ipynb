{
 "cells": [
  {
   "cell_type": "code",
   "execution_count": 1,
   "metadata": {},
   "outputs": [],
   "source": [
    "from draco.learn import linear\n",
    "from draco.learn import data_util\n",
    "from draco.run import run\n",
    "from draco.spec import Task, Query\n",
    "from draco.learn.helper import count_violations\n",
    "import numpy as np\n",
    "import pandas as pd\n",
    "from sklearn.svm import SVC\n",
    "from sklearn.model_selection import train_test_split\n",
    "import logging\n",
    "\n",
    "logging.basicConfig()\n",
    "logging.getLogger().setLevel(logging.WARN)\n",
    "\n",
    "%matplotlib inline\n",
    "%config InlineBackend.figure_format = 'retina'"
   ]
  },
  {
   "cell_type": "code",
   "execution_count": 2,
   "metadata": {},
   "outputs": [],
   "source": [
    "test_size = 0.3"
   ]
  },
  {
   "cell_type": "code",
   "execution_count": 3,
   "metadata": {},
   "outputs": [],
   "source": [
    "data, _ = data_util.load_data(test_size=test_size)\n",
    "data = data[data.source == 'kim2018']\n",
    "\n",
    "raw_data = data_util.load_neg_pos_specs()"
   ]
  },
  {
   "cell_type": "code",
   "execution_count": 4,
   "metadata": {},
   "outputs": [],
   "source": [
    "X = data.negative - data.positive\n",
    "y = np.ones(len(X))"
   ]
  },
  {
   "cell_type": "code",
   "execution_count": 5,
   "metadata": {},
   "outputs": [
    {
     "name": "stdout",
     "output_type": "stream",
     "text": [
      "Train score:  0.9582366589327146\n",
      "Dev score:  0.978494623655914\n"
     ]
    }
   ],
   "source": [
    "clf = linear.train_model(X, test_size=test_size)\n",
    "pred = clf.predict(X)"
   ]
  },
  {
   "cell_type": "code",
   "execution_count": 6,
   "metadata": {},
   "outputs": [],
   "source": [
    "weights = clf.coef_[0]\n",
    "names = X.columns"
   ]
  },
  {
   "cell_type": "code",
   "execution_count": 7,
   "metadata": {},
   "outputs": [],
   "source": [
    "const_dict = dict(zip(map(lambda x: f'{x}_weight', names), map(int, weights*10000)))\n",
    "const_dict_no_weight = dict(zip(names, map(int, weights*10000)))\n",
    "weight_dict = dict(zip(names, weights))\n",
    "\n",
    "const_dict, weight_dict;"
   ]
  },
  {
   "cell_type": "code",
   "execution_count": 8,
   "metadata": {},
   "outputs": [
    {
     "data": {
      "text/plain": [
       "(595, 617)"
      ]
     },
     "execution_count": 8,
     "metadata": {},
     "output_type": "execute_result"
    }
   ],
   "source": [
    "only_correct = X[pred == 1]\n",
    "\n",
    "len(only_correct), len(data)"
   ]
  },
  {
   "cell_type": "code",
   "execution_count": null,
   "metadata": {},
   "outputs": [],
   "source": [
    "def aggregate(violations, weights):\n",
    "    ''' Get the cost from a dictionary of violations. '''\n",
    "    ret = 0.0\n",
    "    for n, v in violations.items():\n",
    "        ret += weights[n] * v\n",
    "    return ret\n",
    "\n",
    "files = ['define.lp', 'hard.lp', 'soft.lp', 'assign_weights.lp', 'output.lp']  # cost.lp\n",
    "\n",
    "for i in range(len(only_correct)):\n",
    "    name = only_correct.iloc[i].name\n",
    "    \n",
    "    print(name)\n",
    "    \n",
    "    pair = raw_data[name]\n",
    "\n",
    "    task_n = Task(pair.data, Query.from_vegalite(pair.negative), task=pair.task)\n",
    "    task_p = Task(pair.data, Query.from_vegalite(pair.positive), task=pair.task)\n",
    "    \n",
    "    assert clf.predict([X.loc[name]]) == 1\n",
    "    \n",
    "    data_entry = data.loc[name]\n",
    "    \n",
    "    # print(\"Prediction negative\", clf.coef_.dot(np.array([data_entry.negative]).T))\n",
    "    print(\"Prediction negative:\", clf.decision_function([data_entry.negative])[0])\n",
    "    # print(\"Prediction positive\", clf.coef_.dot(np.array([data_entry.positive]).T))\n",
    "    print(\"Prediction positive:\", clf.decision_function([data_entry.positive])[0])\n",
    "\n",
    "    # the violation vectors have to be the same\n",
    "    assert count_violations(task_n) == data_entry.negative[data_entry.negative > 0].to_dict()\n",
    "\n",
    "    violations_n = count_violations(task_n)\n",
    "    violations_p = count_violations(task_p)\n",
    "    \n",
    "    cn = aggregate(violations_n, weight_dict)\n",
    "    cp = aggregate(violations_p, weight_dict)\n",
    "    \n",
    "    print(cn, cp)\n",
    "    assert cn > cp, \"Violations should result in correct cost\"\n",
    "\n",
    "    cn = aggregate(violations_n, const_dict_no_weight)\n",
    "    cp = aggregate(violations_p, const_dict_no_weight)\n",
    "    \n",
    "    print(cn, cp)\n",
    "    assert cn > cp, \"Violations with asp weights should result in correct cost\"\n",
    "    \n",
    "#     cn = run(task_n, constants=const_dict, files=files, silence_warnings=True, debug=True).cost\n",
    "#     cp = run(task_p, constants=const_dict, files=files, silence_warnings=True, debug=True).cost\n",
    "#     print(cn, cp)\n",
    "#     assert cn > cp, \"Costs should have correct order\"\n",
    "    \n",
    "    print()"
   ]
  },
  {
   "cell_type": "code",
   "execution_count": null,
   "metadata": {},
   "outputs": [],
   "source": []
  }
 ],
 "metadata": {
  "kernelspec": {
   "display_name": "Python [conda env:asp]",
   "language": "python",
   "name": "conda-env-asp-py"
  },
  "language_info": {
   "codemirror_mode": {
    "name": "ipython",
    "version": 3
   },
   "file_extension": ".py",
   "mimetype": "text/x-python",
   "name": "python",
   "nbconvert_exporter": "python",
   "pygments_lexer": "ipython3",
   "version": "3.6.4"
  }
 },
 "nbformat": 4,
 "nbformat_minor": 2
}
