{
 "cells": [
  {
   "cell_type": "code",
   "execution_count": 35,
   "metadata": {},
   "outputs": [],
   "source": [
    "from draco.spec import Data"
   ]
  },
  {
   "cell_type": "code",
   "execution_count": 30,
   "metadata": {},
   "outputs": [
    {
     "name": "stdout",
     "output_type": "stream",
     "text": [
      "cars.csv           \u001b[34mcompassql_examples\u001b[m\u001b[m random_data.json   weather.json\n",
      "cars.json          driving.json       \u001b[34mspec_pairs\u001b[m\u001b[m         weball26.json\n",
      "cars_mod.csv       movies.csv         \u001b[34mto_label\u001b[m\u001b[m           weights.json\n",
      "cars_mod.json      movies.json        \u001b[34mtraining\u001b[m\u001b[m\n"
     ]
    }
   ],
   "source": [
    "!ls ../data/"
   ]
  },
  {
   "cell_type": "code",
   "execution_count": 34,
   "metadata": {},
   "outputs": [
    {
     "name": "stdout",
     "output_type": "stream",
     "text": [
      "num_rows(387).\n",
      "\n",
      "fieldtype(car_type,string).\n",
      "cardinality(car_type,5).\n",
      "entropy(car_type,11).\n",
      "\n",
      "fieldtype(make,string).\n",
      "cardinality(make,4).\n",
      "entropy(make,13).\n",
      "\n",
      "fieldtype(awd,boolean).\n",
      "cardinality(awd,2).\n",
      "entropy(awd,5).\n",
      "\n",
      "fieldtype(cylinders,number).\n",
      "cardinality(cylinders,8).\n",
      "entropy(cylinders,11).\n",
      "extent(cylinders,0,12).\n",
      "\n",
      "fieldtype(wheel_base,number).\n",
      "cardinality(wheel_base,34).\n",
      "entropy(wheel_base,29).\n",
      "extent(wheel_base,0,130).\n",
      "\n",
      "fieldtype(rating,number).\n",
      "cardinality(rating,3).\n",
      "entropy(rating,10).\n",
      "extent(rating,1,4).\n",
      "\n",
      "fieldtype(retail_price,number).\n",
      "cardinality(retail_price,370).\n",
      "entropy(retail_price,33).\n",
      "extent(retail_price,10280,192465).\n",
      "\n",
      "fieldtype(dealer_price,number).\n",
      "cardinality(dealer_price,384).\n",
      "entropy(dealer_price,33).\n",
      "extent(dealer_price,9875,173560).\n",
      "\n",
      "fieldtype(engine_size,number).\n",
      "cardinality(engine_size,40).\n",
      "entropy(engine_size,32).\n",
      "extent(engine_size,0,6).\n",
      "\n",
      "fieldtype(horsepower,number).\n",
      "cardinality(horsepower,100).\n",
      "entropy(horsepower,37).\n",
      "extent(horsepower,73,493).\n",
      "\n",
      "fieldtype(build_date,datetime).\n",
      "cardinality(build_date,374).\n",
      "\n",
      "fieldtype(sell_date,datetime).\n",
      "cardinality(sell_date,237).\n",
      "\n",
      "fieldtype(resale_date,datetime).\n",
      "cardinality(resale_date,31).\n",
      "\n"
     ]
    }
   ],
   "source": [
    "# data = Data.from_csv('../data/cars.csv')\n",
    "data = Data.from_json('../data/cars_mod.json')\n",
    "print(data.to_asp())"
   ]
  },
  {
   "cell_type": "code",
   "execution_count": null,
   "metadata": {},
   "outputs": [],
   "source": []
  }
 ],
 "metadata": {
  "kernelspec": {
   "display_name": "Python [conda env:draco]",
   "language": "python",
   "name": "conda-env-draco-py"
  },
  "language_info": {
   "codemirror_mode": {
    "name": "ipython",
    "version": 3
   },
   "file_extension": ".py",
   "mimetype": "text/x-python",
   "name": "python",
   "nbconvert_exporter": "python",
   "pygments_lexer": "ipython3",
   "version": "3.6.5"
  }
 },
 "nbformat": 4,
 "nbformat_minor": 2
}
