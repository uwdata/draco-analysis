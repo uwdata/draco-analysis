{
 "cells": [
  {
   "cell_type": "markdown",
   "metadata": {},
   "source": [
    "# Find Bugs\n",
    "\n",
    "Use this notebook to find wrong predicitons. We can then later visualize the pairs of specs."
   ]
  },
  {
   "cell_type": "code",
   "execution_count": 10,
   "metadata": {},
   "outputs": [],
   "source": [
    "from draco.learn import data_util\n",
    "from draco.learn import linear\n",
    "from sklearn import svm\n",
    "import random\n",
    "import json\n",
    "import numpy as np"
   ]
  },
  {
   "cell_type": "code",
   "execution_count": 2,
   "metadata": {},
   "outputs": [],
   "source": [
    "train_dev, _ = data_util.load_data()\n",
    "\n",
    "X = train_dev.negative - train_dev.positive\n",
    "X = X.as_matrix()"
   ]
  },
  {
   "cell_type": "markdown",
   "metadata": {},
   "source": [
    "## Cross validation\n",
    "\n",
    "Cross validate the model by running it over various subsets of the input data."
   ]
  },
  {
   "cell_type": "code",
   "execution_count": 3,
   "metadata": {},
   "outputs": [
    {
     "name": "stdout",
     "output_type": "stream",
     "text": [
      "Found bug 15\n",
      "Found bug 18\n",
      "Found bug 57\n",
      "Found bug 67\n",
      "Found bug 84\n",
      "Found bug 97\n",
      "Found bug 98\n",
      "Found bug 116\n",
      "Found bug 135\n",
      "Found bug 142\n",
      "Found bug 171\n",
      "Found bug 191\n",
      "Found bug 198\n",
      "Found bug 202\n",
      "Found bug 203\n",
      "Found bug 221\n",
      "Found bug 228\n",
      "Found bug 249\n",
      "Found bug 262\n",
      "Found bug 309\n",
      "Found bug 311\n",
      "Found bug 313\n",
      "Found bug 319\n",
      "Found bug 320\n",
      "Found bug 327\n",
      "Found bug 328\n",
      "Found bug 346\n",
      "Found bug 361\n",
      "Found bug 385\n",
      "Found bug 398\n",
      "Found bug 404\n",
      "Found bug 413\n",
      "Found bug 416\n",
      "Found bug 419\n",
      "Found bug 428\n",
      "Found bug 430\n",
      "Found bug 476\n",
      "Found bug 493\n",
      "Found bug 515\n",
      "Found bug 519\n",
      "Found bug 523\n",
      "Found bug 543\n",
      "Found bug 578\n",
      "Found bug 595\n",
      "Found bug 621\n",
      "Found bug 630\n",
      "Found bug 635\n",
      "Found bug 654\n",
      "Found bug 662\n",
      "Found bug 671\n",
      "Found bug 673\n",
      "Found bug 682\n",
      "Found bug 702\n",
      "Found bug 709\n",
      "Found bug 714\n",
      "Found bug 716\n",
      "Found bug 750\n",
      "Found bug 780\n",
      "Found bug 795\n",
      "Found bug 804\n",
      "Found bug 813\n"
     ]
    }
   ],
   "source": [
    "from sklearn.model_selection import LeaveOneOut\n",
    "\n",
    "loo = LeaveOneOut()\n",
    "\n",
    "bug_idx = []\n",
    "bug_confidence = []\n",
    "\n",
    "for train_index, test_index in loo.split(X):\n",
    "    X_train, X_test = X[train_index], X[test_index]\n",
    "    \n",
    "    size = len(X_train)\n",
    "    \n",
    "    y_train = np.ones(size)\n",
    "    \n",
    "    idx = np.ones(size, dtype=bool)\n",
    "    idx[:int(size/2)] = False\n",
    "    np.random.shuffle(idx)\n",
    "    \n",
    "    X_train[idx] = -X_train[idx]\n",
    "    y_train[idx] = -y_train[idx]\n",
    "\n",
    "    clf = svm.LinearSVC(C=1, fit_intercept=False)\n",
    "    clf.fit(X_train, y_train)\n",
    "    \n",
    "    if clf.predict(X_test)[0] != 1:\n",
    "        bug_idx.append(test_index[0])\n",
    "        bug_confidence.append(clf.decision_function(X_test)[0])\n",
    "        print(\"Found bug\", test_index[0],)"
   ]
  },
  {
   "cell_type": "code",
   "execution_count": 4,
   "metadata": {},
   "outputs": [
    {
     "data": {
      "text/plain": [
       "61"
      ]
     },
     "execution_count": 4,
     "metadata": {},
     "output_type": "execute_result"
    }
   ],
   "source": [
    "len(bug_idx)"
   ]
  },
  {
   "cell_type": "markdown",
   "metadata": {},
   "source": [
    "## Process bugs"
   ]
  },
  {
   "cell_type": "code",
   "execution_count": 5,
   "metadata": {},
   "outputs": [
    {
     "data": {
      "text/plain": [
       "Index(['kim2018-34', 'kim2018-22', 'kim2018-563', 'kim2018-160',\n",
       "       'kim2018-813', 'kim2018-834', 'kim2018-119', 'kim2018-1007',\n",
       "       'kim2018-576', 'kim2018-2', 'kim2018-622', 'saket2018-0',\n",
       "       'kim2018-171', 'kim2018-812', 'kim2018-637', 'kim2018-997',\n",
       "       'kim2018-98', 'kim2018-86', 'kim2018-891', 'kim2018-696',\n",
       "       'kim2018-559', 'kim2018-33', 'saket2018-9', 'kim2018-77',\n",
       "       'saket2018-7', 'kim2018-416', 'saket2018-4', 'kim2018-268',\n",
       "       'kim2018-585', 'kim2018-940', 'kim2018-941', 'kim2018-510',\n",
       "       'kim2018-894', 'kim2018-829', 'kim2018-464', 'kim2018-565',\n",
       "       'kim2018-610', 'kim2018-900', 'kim2018-492', 'kim2018-32',\n",
       "       'kim2018-704', 'kim2018-904', 'kim2018-506', 'kim2018-1117',\n",
       "       'kim2018-902', 'kim2018-97', 'kim2018-998', 'kim2018-827',\n",
       "       'kim2018-150', 'kim2018-103', 'kim2018-987', 'kim2018-828',\n",
       "       'kim2018-896', 'kim2018-514', 'kim2018-114', 'kim2018-887',\n",
       "       'kim2018-459', 'kim2018-520', 'kim2018-457', 'kim2018-625',\n",
       "       'kim2018-906'],\n",
       "      dtype='object')"
      ]
     },
     "execution_count": 5,
     "metadata": {},
     "output_type": "execute_result"
    }
   ],
   "source": [
    "# get the indexes in the original data\n",
    "bugs = train_dev.index[bug_idx]\n",
    "bugs"
   ]
  },
  {
   "cell_type": "code",
   "execution_count": 6,
   "metadata": {},
   "outputs": [],
   "source": [
    "pos_neg_data = data_util.load_neg_pos_specs()"
   ]
  },
  {
   "cell_type": "code",
   "execution_count": 7,
   "metadata": {},
   "outputs": [],
   "source": [
    "bug_specs = []\n",
    "\n",
    "for i, bi in enumerate(bugs):\n",
    "    example = pos_neg_data[bi]\n",
    "    \n",
    "    negative = example.negative\n",
    "    positive = example.positive\n",
    "    \n",
    "    data = example.data\n",
    "    data.fill_with_random_content()\n",
    "    vals = data.content\n",
    "    \n",
    "    negative['data'] = {\n",
    "        'values': vals\n",
    "    }\n",
    "    positive['data'] = {\n",
    "        'values': vals\n",
    "    }\n",
    "    bug_specs.append({\n",
    "        'first': negative,\n",
    "        'second': positive,\n",
    "        'properties': {\n",
    "            'confidence': bug_confidence[i],\n",
    "            'source': example.source,\n",
    "            'task': example.task\n",
    "        }\n",
    "    })"
   ]
  },
  {
   "cell_type": "code",
   "execution_count": 8,
   "metadata": {},
   "outputs": [
    {
     "data": {
      "text/plain": [
       "61"
      ]
     },
     "execution_count": 8,
     "metadata": {},
     "output_type": "execute_result"
    }
   ],
   "source": [
    "len(bug_specs)"
   ]
  },
  {
   "cell_type": "code",
   "execution_count": 9,
   "metadata": {},
   "outputs": [],
   "source": [
    "with open('../data/spec_pairs/bugs.json', 'w') as f:\n",
    "    json.dump({\n",
    "        \"headers\": {\n",
    "            \"first\": {\n",
    "                \"title\": \"Negative\",\n",
    "                \"subtitle\": \"but was predicted as better\"\n",
    "            },\n",
    "            \"second\": {\n",
    "                \"title\": \"Positive\",\n",
    "                \"subtitle\": \"but was predicted as worse\"\n",
    "            }\n",
    "        },\n",
    "        \"specs\": bug_specs\n",
    "    }, f, indent=2)"
   ]
  },
  {
   "cell_type": "code",
   "execution_count": null,
   "metadata": {},
   "outputs": [],
   "source": []
  }
 ],
 "metadata": {
  "kernelspec": {
   "display_name": "Python [default]",
   "language": "python",
   "name": "python3"
  },
  "language_info": {
   "codemirror_mode": {
    "name": "ipython",
    "version": 3
   },
   "file_extension": ".py",
   "mimetype": "text/x-python",
   "name": "python",
   "nbconvert_exporter": "python",
   "pygments_lexer": "ipython3",
   "version": "3.6.4"
  }
 },
 "nbformat": 4,
 "nbformat_minor": 2
}
